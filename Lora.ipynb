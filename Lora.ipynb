{
 "cells": [
  {
   "cell_type": "code",
   "execution_count": null,
   "id": "6907daac-3d04-4c8a-bb90-dda7275b4d3a",
   "metadata": {},
   "outputs": [],
   "source": [
    "!git clone https://github.com/cloneofsimo/lora.git && sed -i 's/functools.cache/functools.lru_cache(maxsize=None)/g' /content/lora/lora_diffusion/xformers_utils.py && pip install /content/lora\n",
    "!pip install accelerate bitsandbytes"
   ]
  },
  {
   "cell_type": "markdown",
   "id": "9cca1b54-c712-42bf-9c5f-ea5ead8ff745",
   "metadata": {},
   "source": [
    "## LIBRARIES"
   ]
  },
  {
   "cell_type": "code",
   "execution_count": null,
   "id": "341a45be-6b1d-47a3-a32c-aecaa687e0aa",
   "metadata": {},
   "outputs": [],
   "source": [
    "import os\n",
    "import shutil\n",
    "from tqdm import tqdm\n",
    "\n",
    "import torch\n",
    "from lora_diffusion import monkeypatch_or_replace_lora, tune_lora_scale\n",
    "from diffusers import StableDiffusionPipeline\n"
   ]
  },
  {
   "cell_type": "markdown",
   "id": "e8102c7b-4499-4db0-9e7f-99f09edfcae0",
   "metadata": {},
   "source": [
    "## TRAINING"
   ]
  },
  {
   "cell_type": "code",
   "execution_count": null,
   "id": "02ddd2b0-b2b1-4eb8-9972-73a49ecb43c1",
   "metadata": {},
   "outputs": [],
   "source": [
    "PRETRAINED_MODEL=\"runwayml/stable-diffusion-v1-5\" #@param{type: 'string'}\n",
    "PROMPT=\"ktn\" #@param{type: 'string'}\n",
    "\n",
    "OUTPUT_DIR=\"\" #@param{type: 'string'}\n",
    "IMAGES_FOLDER_OPTIONAL=\"\" #@param{type: 'string'}\n",
    "\n",
    "RESOLUTION=\"512\" #@param [\"512\", \"576\", \"640\", \"704\", \"768\", \"832\", \"896\", \"960\", \"1024\"]\n",
    "RESOLUTION=int(RESOLUTION)\n"
   ]
  },
  {
   "cell_type": "code",
   "execution_count": null,
   "id": "2072e97a-2422-4c7b-89fb-fdea85dee42d",
   "metadata": {},
   "outputs": [],
   "source": [
    "\n",
    "if PRETRAINED_MODEL == \"\":\n",
    "  print('\u001b[1;31mYou should define the pretrained model.')\n",
    "\n",
    "else:\n",
    "  if IMAGES_FOLDER_OPTIONAL==\"\":\n",
    "    INSTANCE_DIR = \"/content/data_example\"\n",
    "    if not os.path.exists(str(INSTANCE_DIR)):\n",
    "      %mkdir -p \"$INSTANCE_DIR\"\n",
    "    uploaded = files.upload()\n",
    "    for filename in tqdm(uploaded.keys(), bar_format='  |{bar:15}| {n_fmt}/{total_fmt} Uploaded'):\n",
    "        shutil.move(filename, INSTANCE_DIR)\n",
    "  else:\n",
    "    INSTANCE_DIR = IMAGES_FOLDER_OPTIONAL\n",
    "  \n",
    "  if OUTPUT_DIR == \"\":\n",
    "    OUTPUT_DIR = \"/content/output\"\n",
    "  if not os.path.exists(str(OUTPUT_DIR)):\n",
    "    %mkdir -p \"$OUTPUT_DIR\""
   ]
  },
  {
   "cell_type": "code",
   "execution_count": null,
   "id": "2f311427-de52-43fa-8dd9-8cd969571917",
   "metadata": {},
   "outputs": [],
   "source": [
    "STEPS = 300 #max:10000\n",
    "BATCH_SIZE = 1 #max\n",
    "FP_16 = True #type:\"boolean\"\n",
    "LEARNING_RATE = 3e-4 #type:\"number\"\n",
    "TRAIN_TEXT_ENCODER = True #type:\"boolean\"\n",
    "LEARNING_RATE_TEXT_ENCODER = 1e-5 #type:\"number\"\n",
    "NEW_LEARNING_RATE = LEARNING_RATE / BATCH_SIZE\n",
    "NEW_LEARNING_RATE_TEXT_ENCODER = LEARNING_RATE_TEXT_ENCODER / BATCH_SIZE\n"
   ]
  },
  {
   "cell_type": "code",
   "execution_count": null,
   "id": "8d983a1e-2900-4438-846e-f9b5c45fc3c2",
   "metadata": {},
   "outputs": [],
   "source": [
    "if FP_16:\n",
    "  fp_16_arg = \"fp16\"\n",
    "else:\n",
    "  fp_16_arg = \"no\"\n",
    "\n",
    "if TRAIN_TEXT_ENCODER:\n",
    "  command = (f'accelerate launch lora/training_scripts/train_lora_dreambooth.py '\n",
    "             f'--pretrained_model_name_or_path=\"{PRETRAINED_MODEL}\" '\n",
    "             f'--instance_data_dir=\"{INSTANCE_DIR}\" '\n",
    "             f'--output_dir=\"{OUTPUT_DIR}\" '\n",
    "             f'--instance_prompt=\"{PROMPT}\" '\n",
    "             f'--resolution=512 '\n",
    "             f'--use_8bit_adam '\n",
    "             f'--mixed_precision=\"{fp_16_arg}\" '\n",
    "             f'--train_batch_size=1 '\n",
    "             f'--gradient_accumulation_steps=1 '\n",
    "             f'--learning_rate={NEW_LEARNING_RATE} '\n",
    "             f'--lr_scheduler=\"constant\" '\n",
    "             f'--lr_warmup_steps=0 '\n",
    "             f'--max_train_steps={STEPS} '\n",
    "             f'--train_text_encoder '\n",
    "             f'--lora_rank=16 '\n",
    "             f'--learning_rate_text={NEW_LEARNING_RATE_TEXT_ENCODER}')\n",
    "else:\n",
    "  command = (f'accelerate launch lora/training_scripts/train_lora_dreambooth.py '\n",
    "             f'--pretrained_model_name_or_path=\"{PRETRAINED_MODEL}\" '\n",
    "             f'--instance_data_dir=\"{INSTANCE_DIR}\" '\n",
    "             f'--output_dir=\"{OUTPUT_DIR}\" '\n",
    "             f'--instance_prompt=\"{PROMPT}\" '\n",
    "             f'--resolution=512 '\n",
    "             f'--use_8bit_adam '\n",
    "             f'--mixed_precision=\"{fp_16_arg}\" '\n",
    "             f'--train_batch_size=1 '\n",
    "             f'--gradient_accumulation_steps=1 '\n",
    "             f'--learning_rate={NEW_LEARNING_RATE} '\n",
    "             f'--lr_scheduler=\"constant\" '\n",
    "             f'--lr_warmup_steps=0 '\n",
    "             f'--lora_rank=16 '\n",
    "             f'--max_train_steps={STEPS} '\n",
    "             f'--learning_rate_text={NEW_LEARNING_RATE_TEXT_ENCODER}')"
   ]
  },
  {
   "cell_type": "code",
   "execution_count": null,
   "id": "b3197802-a04f-4f5b-9a93-3fc953c9fe4c",
   "metadata": {},
   "outputs": [],
   "source": [
    "!rm -rf $INSTANCE_DIR/.ipynb_checkpoints\n",
    "!{command}"
   ]
  },
  {
   "cell_type": "markdown",
   "id": "798f55b6-a24b-4352-8e9e-a2fd710a313a",
   "metadata": {},
   "source": [
    "## INFERENCE"
   ]
  },
  {
   "cell_type": "markdown",
   "id": "44e6e08a-0905-4431-ac4f-f389e2c2bd13",
   "metadata": {},
   "source": [
    "#### LOADING MODEL AND MONKEY PATCHING IT\n"
   ]
  },
  {
   "cell_type": "code",
   "execution_count": null,
   "id": "e7e6042f-96d3-4666-8d85-05b290c1c144",
   "metadata": {},
   "outputs": [],
   "source": [
    "#LOADING MODEL AND MONKEY PATCHING IT\n",
    "pipe = StableDiffusionPipeline.from_pretrained(PRETRAINED_MODEL, torch_dtype=torch.float16).to(\"cuda\")\n",
    "monkeypatch_or_replace_lora(pipe.unet, torch.load(os.path.join(OUTPUT_DIR, \"lora_weight.pt\")))\n",
    "monkeypatch_or_replace_lora(pipe.text_encoder, torch.load(os.path.join(OUTPUT_DIR, \"lora_weight.text_encoder.pt\")), target_replace_module=[\"CLIPAttention\"])"
   ]
  },
  {
   "cell_type": "code",
   "execution_count": null,
   "id": "d146c45e-46a5-4ce8-9ac5-1800aeee2657",
   "metadata": {},
   "outputs": [],
   "source": [
    "pipe.safety_checker = None"
   ]
  },
  {
   "cell_type": "code",
   "execution_count": null,
   "id": "9eb20760-a0d8-48d9-9d79-6f6ad2b98e16",
   "metadata": {},
   "outputs": [],
   "source": [
    "INFERENCE_PROMPT = 'heart' #type:\"string\"\n",
    "LORA_SCALE_UNET = 0.1 #type:\"number\"\n",
    "LORA_SCALE_TEXT_ENCODER = 0.1 #type:\"number\"\n",
    "GUIDANCE = 1.4 #max:15\n",
    "tune_lora_scale(pipe.unet, LORA_SCALE_UNET)"
   ]
  },
  {
   "cell_type": "code",
   "execution_count": null,
   "id": "59e40f4a-5304-4345-901d-82f7bbf0707c",
   "metadata": {},
   "outputs": [],
   "source": [
    "if TRAIN_TEXT_ENCODER:\n",
    "  tune_lora_scale(pipe.text_encoder, LORA_SCALE_TEXT_ENCODER)\n",
    "image = pipe(INFERENCE_PROMPT, num_inference_steps=50, guidance_scale=GUIDANCE).images[0]\n"
   ]
  },
  {
   "cell_type": "code",
   "execution_count": null,
   "id": "6e2e0d54-80cb-4a46-a8d5-634835d45f7e",
   "metadata": {},
   "outputs": [],
   "source": [
    "image"
   ]
  }
 ],
 "metadata": {
  "kernelspec": {
   "display_name": "Python 3 (ipykernel)",
   "language": "python",
   "name": "python3"
  },
  "language_info": {
   "codemirror_mode": {
    "name": "ipython",
    "version": 3
   },
   "file_extension": ".py",
   "mimetype": "text/x-python",
   "name": "python",
   "nbconvert_exporter": "python",
   "pygments_lexer": "ipython3",
   "version": "3.9.13"
  }
 },
 "nbformat": 4,
 "nbformat_minor": 5
}
